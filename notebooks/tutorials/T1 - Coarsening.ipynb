{
 "cells": [
  {
   "cell_type": "markdown",
   "metadata": {},
   "source": [
    "# `Filtering and coarse-graining operators`\n",
    "\n",
    "In this notebook, we'll very briefly go over the different filtering and coarse-graining operators we test in the paper."
   ]
  },
  {
   "cell_type": "code",
   "execution_count": 3,
   "metadata": {},
   "outputs": [],
   "source": [
    "import os\n",
    "import sys\n",
    "import pyqg\n",
    "import numpy as np\n",
    "import matplotlib.pyplot as plt\n",
    "from tqdm.notebook import tqdm, trange\n",
    "import pyqg_parameterization_benchmarks.coarsening_ops as coarsening\n",
    "from pyqg.diagnostic_tools import calc_ispec as _calc_ispec\n",
    "\n",
    "%matplotlib inline\n",
    "plt.rcParams.update({'font.size': 13})\n",
    "calc_ispec = lambda *args, **kwargs: _calc_ispec(*args, averaging = False, truncate =False, **kwargs)"
   ]
  },
  {
   "cell_type": "markdown",
   "metadata": {},
   "source": [
    "## `1 - Initialization of HR and LR models`\n",
    "\n",
    "In order to have something to filter and coarse-grain, let's run a model:"
   ]
  },
  {
   "cell_type": "code",
   "execution_count": 7,
   "metadata": {},
   "outputs": [
    {
     "data": {
      "application/vnd.jupyter.widget-view+json": {
       "model_id": "620468807a9940098b23b5717b4f0d4c",
       "version_major": 2,
       "version_minor": 0
      },
      "text/plain": [
       "  0%|          | 0/20000 [00:00<?, ?it/s]"
      ]
     },
     "metadata": {},
     "output_type": "display_data"
    },
    {
     "ename": "KeyboardInterrupt",
     "evalue": "",
     "output_type": "error",
     "traceback": [
      "\u001b[0;31m---------------------------------------------------------------------------\u001b[0m",
      "\u001b[0;31mKeyboardInterrupt\u001b[0m                         Traceback (most recent call last)",
      "\u001b[1;32m/Users/vikvador/Documents/TFE/PYQG_Ocean-parameterizations-in-an-idealized-model/notebooks/tutorials/T1 - Coarsening.ipynb Cellule 4\u001b[0m in \u001b[0;36m<cell line: 3>\u001b[0;34m()\u001b[0m\n\u001b[1;32m      <a href='vscode-notebook-cell:/Users/vikvador/Documents/TFE/PYQG_Ocean-parameterizations-in-an-idealized-model/notebooks/tutorials/T1%20-%20Coarsening.ipynb#W3sZmlsZQ%3D%3D?line=1'>2</a>\u001b[0m m1 \u001b[39m=\u001b[39m pyqg\u001b[39m.\u001b[39mQGModel(nx \u001b[39m=\u001b[39m \u001b[39m256\u001b[39m, dt \u001b[39m=\u001b[39m \u001b[39m3600.\u001b[39m, log_level\u001b[39m=\u001b[39m\u001b[39m0\u001b[39m)\n\u001b[1;32m      <a href='vscode-notebook-cell:/Users/vikvador/Documents/TFE/PYQG_Ocean-parameterizations-in-an-idealized-model/notebooks/tutorials/T1%20-%20Coarsening.ipynb#W3sZmlsZQ%3D%3D?line=2'>3</a>\u001b[0m \u001b[39mfor\u001b[39;00m i \u001b[39min\u001b[39;00m tqdm(\u001b[39mrange\u001b[39m(\u001b[39m20000\u001b[39m)):\n\u001b[0;32m----> <a href='vscode-notebook-cell:/Users/vikvador/Documents/TFE/PYQG_Ocean-parameterizations-in-an-idealized-model/notebooks/tutorials/T1%20-%20Coarsening.ipynb#W3sZmlsZQ%3D%3D?line=3'>4</a>\u001b[0m     m1\u001b[39m.\u001b[39;49m_step_forward()\n",
      "File \u001b[0;32m~/opt/miniconda3/lib/python3.9/site-packages/pyqg/model.py:411\u001b[0m, in \u001b[0;36mModel._step_forward\u001b[0;34m(self)\u001b[0m\n\u001b[1;32m    408\u001b[0m \u001b[39mself\u001b[39m\u001b[39m.\u001b[39m_invert()\n\u001b[1;32m    409\u001b[0m \u001b[39m# find streamfunction from pv\u001b[39;00m\n\u001b[0;32m--> 411\u001b[0m \u001b[39mself\u001b[39;49m\u001b[39m.\u001b[39;49m_do_advection()\n\u001b[1;32m    412\u001b[0m \u001b[39m# use streamfunction to calculate advection tendency\u001b[39;00m\n\u001b[1;32m    414\u001b[0m \u001b[39mself\u001b[39m\u001b[39m.\u001b[39m_do_friction()\n",
      "\u001b[0;31mKeyboardInterrupt\u001b[0m: "
     ]
    }
   ],
   "source": [
    "# 1min40\n",
    "m1 = pyqg.QGModel(nx = 256, dt = 3600., log_level=0)\n",
    "for i in tqdm(range(10000)):\n",
    "    m1._step_forward()"
   ]
  },
  {
   "cell_type": "markdown",
   "metadata": {},
   "source": [
    "## A -  Initialize our filtering and coarse-graining operators\n",
    "\n",
    "See our paper for more details on how these are defined; the main point here is that there are many options which lead to qualitatively different results!"
   ]
  },
  {
   "cell_type": "code",
   "execution_count": 6,
   "id": "525b5a82",
   "metadata": {},
   "outputs": [
    {
     "name": "stdout",
     "output_type": "stream",
     "text": [
      "<xarray.Dataset>\n",
      "Dimensions:  (time: 1, lev: 2, y: 256, x: 256, l: 256, k: 129, lev_mid: 1)\n",
      "Coordinates:\n",
      "  * time     (time) float64 3.6e+05\n",
      "  * lev      (lev) int64 1 2\n",
      "  * lev_mid  (lev_mid) float64 1.5\n",
      "  * x        (x) float64 1.953e+03 5.859e+03 9.766e+03 ... 9.941e+05 9.98e+05\n",
      "  * y        (y) float64 1.953e+03 5.859e+03 9.766e+03 ... 9.941e+05 9.98e+05\n",
      "  * l        (l) float64 0.0 6.283e-06 1.257e-05 ... -1.257e-05 -6.283e-06\n",
      "  * k        (k) float64 0.0 6.283e-06 1.257e-05 ... 0.000798 0.0008042\n",
      "Data variables: (12/14)\n",
      "    q        (time, lev, y, x) float64 1.786e-07 5.022e-07 ... 1.833e-09\n",
      "    u        (time, lev, y, x) float64 -1.077e-05 -3.855e-05 ... 3.701e-06\n",
      "    v        (time, lev, y, x) float64 -0.0001127 -0.0009081 ... 0.0003119\n",
      "    ufull    (time, lev, y, x) float64 0.02499 0.02496 ... 4.178e-06 3.701e-06\n",
      "    vfull    (time, lev, y, x) float64 -0.0001127 -0.0009081 ... 0.0003119\n",
      "    qh       (time, lev, l, k) complex128 (0.03687327044170728+0j) ... (-6.57...\n",
      "    ...       ...\n",
      "    ph       (time, lev, l, k) complex128 0j ... (-2.5414765468215653e-22-6.5...\n",
      "    dqhdt    (time, lev, l, k) complex128 (-0-0j) ... (-1.7554022431547092e-1...\n",
      "    Ubg      (lev) float64 0.025 0.0\n",
      "    Qy       (lev) float64 1.039e-10 -7.222e-12\n",
      "    dqdt     (time, lev, y, x) float64 -6.111e-13 -2.259e-12 ... 6.258e-15\n",
      "    p        (time, lev, y, x) float64 -53.73 -56.15 -59.32 ... -66.73 -65.46\n",
      "Attributes: (12/23)\n",
      "    pyqg:beta:       1.5e-11\n",
      "    pyqg:delta:      0.25\n",
      "    pyqg:del2:       0.8\n",
      "    pyqg:dt:         3600.0\n",
      "    pyqg:filterfac:  23.6\n",
      "    pyqg:L:          1000000.0\n",
      "    ...              ...\n",
      "    pyqg:tc:         100\n",
      "    pyqg:tmax:       1576800000.0\n",
      "    pyqg:twrite:     1000.0\n",
      "    pyqg:W:          1000000.0\n",
      "    title:           pyqg: Python Quasigeostrophic Model\n",
      "    reference:       https://pyqg.readthedocs.io/en/latest/index.html\n"
     ]
    }
   ],
   "source": [
    "print(m1.to_dataset().isel())"
   ]
  },
  {
   "cell_type": "code",
   "execution_count": null,
   "metadata": {},
   "outputs": [],
   "source": [
    "op1 = coarsening.Operator1(m1, 64) # spectral truncation + sharp filter\n",
    "op2 = coarsening.Operator2(m1, 64) # spectral truncation + softer Gaussian filter\n",
    "op3 = coarsening.Operator3(m1, 64) # GCM-Filters + real-space coarsening\n",
    "ops = [op1, op2, op3]\n",
    "\n",
    "# Don't forget to give a look at all the information you can retreive in the file coarsening_ops.py"
   ]
  },
  {
   "cell_type": "markdown",
   "metadata": {},
   "source": [
    "## B - Visualize effects on $q_1$"
   ]
  },
  {
   "cell_type": "code",
   "execution_count": null,
   "metadata": {},
   "outputs": [],
   "source": [
    "# Allows to plot an image\n",
    "def imshow(arr, vlim=3e-5):\n",
    "    plt.xticks([]); plt.yticks([])\n",
    "    return plt.imshow(arr, vmin=-vlim, vmax=vlim, cmap='bwr', interpolation='none')\n",
    "\n",
    "# Initilization of the plot\n",
    "fig = plt.figure(figsize = (15.5 , 3))\n",
    "plt.subplot(1,4,1, title='Original')\n",
    "\n",
    "# Plotting high resolution data\n",
    "imshow(m1.q[0])\n",
    "\n",
    "# Plotting coarse grained simulations\n",
    "for j, op in enumerate(ops):\n",
    "    plt.subplot(1,4,j+2, title=op.__class__.__name__)\n",
    "    im = imshow(op.m2.q[0])\n",
    "\n",
    "# Adding a colorbar to the figure\n",
    "fig.colorbar(im, ax = fig.axes, pad = 0.05).set_label('$q_1$ [$\\dfrac{1}{s}$]')"
   ]
  },
  {
   "cell_type": "markdown",
   "metadata": {},
   "source": [
    "It's a bit hard to see the differences in the coarse-grained PV (Potential vorticity), but let's look at the forcing:\n",
    "\n",
    "## C - Visualize effects on $S_{q_1}$"
   ]
  },
  {
   "cell_type": "code",
   "execution_count": null,
   "metadata": {},
   "outputs": [],
   "source": [
    "fig = plt.figure(figsize=(14.5,3))\n",
    "plt.subplot(1,4,1, title='Operator1 $S_{q_{1,tot}}$')\n",
    "imshow(op1.q_forcing_total[0], 3e-11)\n",
    "for j, op in enumerate(ops):\n",
    "    plt.subplot(1,4,j+2, title=op.__class__.__name__ + \" $S_{q_1}$\")\n",
    "    im = imshow(op.subgrid_forcing('q')[0], 3e-11)\n",
    "cb = fig.colorbar(im, ax=fig.axes, pad=0.02).set_label('$S_{q_1}$ [$s^{-2}$]')"
   ]
  },
  {
   "cell_type": "markdown",
   "metadata": {},
   "source": [
    "- Compared to Operator 1 (spectral truncation + sharp filter), we see significantly less forcing with Operator 2 (spectral truncation + Gaussian filter). \n",
    "\n",
    "\n",
    "- With Operator 3 (GCM-Filters + real-space coarsening), we see a bit more forcing. \n",
    "\n",
    "\n",
    "The difference in magnitude of resulting forcing is explained by the difference in shape and width of resulting filtering and coarsegraining operation. We can also look at spectra:"
   ]
  },
  {
   "cell_type": "code",
   "execution_count": null,
   "metadata": {},
   "outputs": [],
   "source": [
    "plt.figure(figsize=(10,4))\n",
    "plt.title(\"Power spectrum of $S_{q}$\")\n",
    "for j, op in enumerate(ops):\n",
    "    Sq = op.subgrid_forcing('q')\n",
    "    line = plt.loglog(*calc_ispec(op.m2, np.abs(op.m2.fft(Sq))[0]**2), label=op.__class__.__name__)\n",
    "    plt.loglog(*calc_ispec(op.m2, np.abs(op.m2.fft(Sq))[1]**2), color=line[0]._color, ls='--', label='(Lower)')\n",
    "plt.legend(ncol=3)\n",
    "plt.ylabel(\"Power spectrum of PV forcing\")\n",
    "plt.xlabel(\"Isotropic wavenumber\")"
   ]
  },
  {
   "cell_type": "markdown",
   "metadata": {},
   "source": [
    "Note to myself :\n",
    "- If you read from right to left, the wavenumber decreases. Thus the frequency increases which explains why the power intensity decreases since we are suppose to loose high frequency information\n",
    "\n",
    "We can see significant differences between operators and layers. Let's look at similar plots for velocity forcing:\n",
    "\n",
    "## Visualize effects on $S_{u_1}$"
   ]
  },
  {
   "cell_type": "code",
   "execution_count": null,
   "metadata": {},
   "outputs": [],
   "source": [
    "fig = plt.figure(figsize=(14.5,3))\n",
    "for j, op in enumerate(ops):\n",
    "    plt.subplot(1,4,j+2, title=op.__class__.__name__ + \" $S_{u_1}$\")\n",
    "    im = imshow(op.subgrid_forcing('u')[0], 1.5e-7)\n",
    "fig.colorbar(im, ax=fig.axes, pad=0.02).set_label('$S_{u_1}$ [$m\\,s^{-2}$]', fontsize=14)"
   ]
  },
  {
   "cell_type": "code",
   "execution_count": null,
   "metadata": {},
   "outputs": [],
   "source": [
    "plt.figure(figsize=(10,4))\n",
    "plt.title(\"Power spectrum of $S_{u}$\")\n",
    "for j, op in enumerate(ops):\n",
    "    Su = op.subgrid_forcing('u')\n",
    "    line = plt.loglog(*calc_ispec(op.m2, np.abs(op.m2.fft(Su))[0]**2), label=op.__class__.__name__)\n",
    "    plt.loglog(*calc_ispec(op.m2, np.abs(op.m2.fft(Su))[1]**2), color=line[0]._color, ls='--', label='(Lower)')\n",
    "plt.legend(ncol=3)\n",
    "plt.ylabel(\"Power spectrum of velocity forcing\")\n",
    "plt.xlabel(\"Isotropic wavenumber\")"
   ]
  },
  {
   "cell_type": "markdown",
   "metadata": {},
   "source": [
    "We can also compute \"subgrid flux\" terms, whose divergence is equal to the subgrid forcing (in case we want to train models which obey conservation constraints without needing to enforce that architecturally). Let's look at the $x$-component of the lower-layer subgrid flux, just for fun:\n",
    "\n",
    "## Visualize effects on $\\phi_{q_2}$"
   ]
  },
  {
   "cell_type": "code",
   "execution_count": null,
   "metadata": {},
   "outputs": [],
   "source": [
    "fig = plt.figure(figsize=(14.5,3))\n",
    "for j, op in enumerate(ops):\n",
    "    plt.subplot(1,4,j+1, title=op.__class__.__name__ + \" $\\phi_{q_2}$\")\n",
    "    uq, vq = op.subgrid_fluxes('q')\n",
    "    im = imshow(uq[1], 1.5e-8)\n",
    "fig.colorbar(im, ax=fig.axes, pad=0.02).set_label('$\\phi_{q_2}$ [$m\\,s^{-2}$]', fontsize=14)"
   ]
  }
 ],
 "metadata": {
  "kernelspec": {
   "display_name": "Python 3.9.13 ('base')",
   "language": "python",
   "name": "python3"
  },
  "language_info": {
   "codemirror_mode": {
    "name": "ipython",
    "version": 3
   },
   "file_extension": ".py",
   "mimetype": "text/x-python",
   "name": "python",
   "nbconvert_exporter": "python",
   "pygments_lexer": "ipython3",
   "version": "3.9.13"
  },
  "vscode": {
   "interpreter": {
    "hash": "c6970a6b860234838f15385a694e4c719e6911821bb317b2dd9580ae5d017ecf"
   }
  }
 },
 "nbformat": 4,
 "nbformat_minor": 5
}
