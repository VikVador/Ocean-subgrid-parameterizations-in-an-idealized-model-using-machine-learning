{
 "cells": [
  {
   "cell_type": "markdown",
   "metadata": {},
   "source": [
    "# `Filtering and coarse-graining operators`\n",
    "\n",
    "In this notebook, we'll very briefly go over the different filtering and coarse-graining operators we test in the paper."
   ]
  },
  {
   "cell_type": "code",
   "execution_count": null,
   "metadata": {},
   "outputs": [],
   "source": [
    "import os\n",
    "import sys\n",
    "import pyqg\n",
    "import numpy as np\n",
    "import matplotlib.pyplot as plt\n",
    "from tqdm.notebook import tqdm, trange\n",
    "import functions.coarsening_ops as coarsening\n",
    "from pyqg.diagnostic_tools import calc_ispec as _calc_ispec\n",
    "\n",
    "%matplotlib inline\n",
    "plt.rcParams.update({'font.size': 13})\n",
    "calc_ispec = lambda *args, **kwargs: _calc_ispec(*args, averaging = False, truncate =False, **kwargs)"
   ]
  },
  {
   "cell_type": "markdown",
   "metadata": {},
   "source": [
    "## `1 - Initialization of HR and LR models`\n",
    "\n",
    "In order to have something to filter and coarse-grain, let's run a model:"
   ]
  },
  {
   "cell_type": "code",
   "execution_count": null,
   "metadata": {},
   "outputs": [],
   "source": [
    "# 1min40\n",
    "m1 = pyqg.QGModel(nx = 256, dt = 3600., log_level=0)\n",
    "for i in tqdm(range(25000)):\n",
    "    m1._step_forward()"
   ]
  },
  {
   "cell_type": "markdown",
   "metadata": {},
   "source": [
    "## A -  Initialize our filtering and coarse-graining operators\n",
    "\n",
    "See our paper for more details on how these are defined; the main point here is that there are many options which lead to qualitatively different results!"
   ]
  },
  {
   "cell_type": "code",
   "execution_count": null,
   "metadata": {},
   "outputs": [],
   "source": [
    "op1 = coarsening.Operator1(m1, 64) # spectral truncation + sharp filter\n",
    "op2 = coarsening.Operator2(m1, 64) # spectral truncation + softer Gaussian filter\n",
    "op3 = coarsening.Operator3(m1, 64) # GCM-Filters + real-space coarsening\n",
    "ops = [op1, op2, op3]\n",
    "\n",
    "# Don't forget to give a look at all the information you can retreive in the file coarsening_ops.py"
   ]
  },
  {
   "cell_type": "markdown",
   "metadata": {},
   "source": [
    "## B - Visualize effects on $q_1$"
   ]
  },
  {
   "cell_type": "code",
   "execution_count": null,
   "metadata": {},
   "outputs": [],
   "source": [
    "# Allows to plot an image\n",
    "def imshow(arr, vlim=3e-5):\n",
    "    plt.xticks([]); plt.yticks([])\n",
    "    return plt.imshow(arr, vmin=-vlim, vmax=vlim, cmap='bwr', interpolation='none')\n",
    "\n",
    "# Initilization of the plot\n",
    "fig = plt.figure(figsize = (15.5 , 3))\n",
    "plt.subplot(1,4,1, title='Original')\n",
    "\n",
    "# Plotting high resolution data\n",
    "imshow(m1.q[0])\n",
    "\n",
    "# Plotting coarse grained simulations\n",
    "for j, op in enumerate(ops):\n",
    "    plt.subplot(1,4,j+2, title=op.__class__.__name__)\n",
    "    im = imshow(op.m2.q[0])\n",
    "\n",
    "# Adding a colorbar to the figure\n",
    "fig.colorbar(im, ax = fig.axes, pad = 0.05).set_label('$q_1$ [$\\dfrac{1}{s}$]')"
   ]
  },
  {
   "cell_type": "markdown",
   "metadata": {},
   "source": [
    "It's a bit hard to see the differences in the coarse-grained PV (Potential vorticity), but let's look at the forcing:\n",
    "\n",
    "## C - Visualize effects on $S_{q_1}$"
   ]
  },
  {
   "cell_type": "code",
   "execution_count": null,
   "metadata": {},
   "outputs": [],
   "source": [
    "fig = plt.figure(figsize=(14.5,3))\n",
    "plt.subplot(1,4,1, title='Operator1 $S_{q_{1,tot}}$')\n",
    "imshow(op1.q_forcing_total[0], 3e-11)\n",
    "for j, op in enumerate(ops):\n",
    "    plt.subplot(1,4,j+2, title=op.__class__.__name__ + \" $S_{q_1}$\")\n",
    "    im = imshow(op.subgrid_forcing('q')[0], 3e-11)\n",
    "cb = fig.colorbar(im, ax=fig.axes, pad=0.02).set_label('$S_{q_1}$ [$s^{-2}$]')"
   ]
  },
  {
   "cell_type": "markdown",
   "metadata": {},
   "source": [
    "- Compared to Operator 1 (spectral truncation + sharp filter), we see significantly less forcing with Operator 2 (spectral truncation + Gaussian filter). \n",
    "\n",
    "\n",
    "- With Operator 3 (GCM-Filters + real-space coarsening), we see a bit more forcing. \n",
    "\n",
    "\n",
    "The difference in magnitude of resulting forcing is explained by the difference in shape and width of resulting filtering and coarsegraining operation. We can also look at spectra:"
   ]
  },
  {
   "cell_type": "code",
   "execution_count": null,
   "metadata": {},
   "outputs": [],
   "source": [
    "plt.figure(figsize=(10,4))\n",
    "plt.title(\"Power spectrum of $S_{q}$\")\n",
    "for j, op in enumerate(ops):\n",
    "    Sq = op.subgrid_forcing('q')\n",
    "    line = plt.loglog(*calc_ispec(op.m2, np.abs(op.m2.fft(Sq))[0]**2), label=op.__class__.__name__)\n",
    "    plt.loglog(*calc_ispec(op.m2, np.abs(op.m2.fft(Sq))[1]**2), color=line[0]._color, ls='--', label='(Lower)')\n",
    "plt.legend(ncol=3)\n",
    "plt.ylabel(\"Power spectrum of PV forcing\")\n",
    "plt.xlabel(\"Isotropic wavenumber\")"
   ]
  },
  {
   "cell_type": "markdown",
   "metadata": {},
   "source": [
    "Note to myself :\n",
    "- If you read from right to left, the wavenumber decreases. Thus the frequency increases which explains why the power intensity decreases since we are suppose to loose high frequency information\n",
    "\n",
    "We can see significant differences between operators and layers. Let's look at similar plots for velocity forcing:\n",
    "\n",
    "## Visualize effects on $S_{u_1}$"
   ]
  },
  {
   "cell_type": "code",
   "execution_count": null,
   "metadata": {},
   "outputs": [],
   "source": [
    "fig = plt.figure(figsize=(14.5,3))\n",
    "for j, op in enumerate(ops):\n",
    "    plt.subplot(1,4,j+2, title=op.__class__.__name__ + \" $S_{u_1}$\")\n",
    "    im = imshow(op.subgrid_forcing('u')[0], 1.5e-7)\n",
    "fig.colorbar(im, ax=fig.axes, pad=0.02).set_label('$S_{u_1}$ [$m\\,s^{-2}$]', fontsize=14)"
   ]
  },
  {
   "cell_type": "code",
   "execution_count": null,
   "metadata": {},
   "outputs": [],
   "source": [
    "plt.figure(figsize=(10,4))\n",
    "plt.title(\"Power spectrum of $S_{u}$\")\n",
    "for j, op in enumerate(ops):\n",
    "    Su = op.subgrid_forcing('u')\n",
    "    line = plt.loglog(*calc_ispec(op.m2, np.abs(op.m2.fft(Su))[0]**2), label=op.__class__.__name__)\n",
    "    plt.loglog(*calc_ispec(op.m2, np.abs(op.m2.fft(Su))[1]**2), color=line[0]._color, ls='--', label='(Lower)')\n",
    "plt.legend(ncol=3)\n",
    "plt.ylabel(\"Power spectrum of velocity forcing\")\n",
    "plt.xlabel(\"Isotropic wavenumber\")"
   ]
  },
  {
   "cell_type": "markdown",
   "metadata": {},
   "source": [
    "We can also compute \"subgrid flux\" terms, whose divergence is equal to the subgrid forcing (in case we want to train models which obey conservation constraints without needing to enforce that architecturally). Let's look at the $x$-component of the lower-layer subgrid flux, just for fun:\n",
    "\n",
    "## Visualize effects on $\\phi_{q_2}$"
   ]
  },
  {
   "cell_type": "code",
   "execution_count": null,
   "metadata": {},
   "outputs": [],
   "source": [
    "fig = plt.figure(figsize=(14.5,3))\n",
    "for j, op in enumerate(ops):\n",
    "    plt.subplot(1,4,j+1, title=op.__class__.__name__ + \" $\\phi_{q_2}$\")\n",
    "    uq, vq = op.subgrid_fluxes('q')\n",
    "    im = imshow(uq[1], 1.5e-8)\n",
    "fig.colorbar(im, ax=fig.axes, pad=0.02).set_label('$\\phi_{q_2}$ [$m\\,s^{-2}$]', fontsize=14)"
   ]
  }
 ],
 "metadata": {
  "kernelspec": {
   "display_name": "Python 3.9.13 ('base')",
   "language": "python",
   "name": "python3"
  },
  "language_info": {
   "codemirror_mode": {
    "name": "ipython",
    "version": 3
   },
   "file_extension": ".py",
   "mimetype": "text/x-python",
   "name": "python",
   "nbconvert_exporter": "python",
   "pygments_lexer": "ipython3",
   "version": "3.9.13"
  },
  "vscode": {
   "interpreter": {
    "hash": "c6970a6b860234838f15385a694e4c719e6911821bb317b2dd9580ae5d017ecf"
   }
  }
 },
 "nbformat": 4,
 "nbformat_minor": 5
}
