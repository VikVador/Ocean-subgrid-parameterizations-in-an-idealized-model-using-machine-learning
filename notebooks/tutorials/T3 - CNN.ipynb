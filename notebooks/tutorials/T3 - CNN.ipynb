{
 "cells": [
  {
   "cell_type": "markdown",
   "metadata": {},
   "source": [
    "# `Fully Convolutional Neural Network Parameterizations`\n",
    "\n",
    "## 1 - Introduction & Setup\n",
    "\n",
    "In this notebook, we'll demonstrate loading and evaluating one of our fully convolutional neural network (FCNN) parameterizations."
   ]
  },
  {
   "cell_type": "code",
   "execution_count": null,
   "metadata": {},
   "outputs": [],
   "source": [
    "import numpy as np\n",
    "import xarray as xr\n",
    "import matplotlib.pyplot as plt\n",
    "import pyqg\n",
    "import json\n",
    "import fsspec\n",
    "from pyqg_parameterization_benchmarks.neural_networks import FCNNParameterization\n",
    "from pyqg_parameterization_benchmarks.utils import energy_budget_figure\n",
    "\n",
    "%matplotlib inline\n",
    "plt.rcParams.update({'font.size': 13})"
   ]
  },
  {
   "cell_type": "markdown",
   "metadata": {},
   "source": [
    "- Conv2D          : simple 2D convolution                                       (https://pytorch.org/docs/stable/generated/torch.nn.Conv2d.html)\n",
    "- BatchNorm2d     : applying a normalization of the mini-batch after each layer (https://pytorch.org/docs/stable/generated/torch.nn.BatchNorm2d.html)\n",
    "- CircularPadding : see paper Benchmarking of machine learning ocean subgrid parameterizations in an idealized model"
   ]
  },
  {
   "cell_type": "code",
   "execution_count": 1,
   "metadata": {},
   "outputs": [
    {
     "ename": "NameError",
     "evalue": "name 'FCNNParameterization' is not defined",
     "output_type": "error",
     "traceback": [
      "\u001b[0;31m---------------------------------------------------------------------------\u001b[0m",
      "\u001b[0;31mNameError\u001b[0m                                 Traceback (most recent call last)",
      "\u001b[1;32m/Users/vikvador/Documents/TFE/PYQG_Ocean-parameterizations-in-an-idealized-model/notebooks/N3-CNN.ipynb Cellule 4\u001b[0m in \u001b[0;36m<cell line: 1>\u001b[0;34m()\u001b[0m\n\u001b[0;32m----> <a href='vscode-notebook-cell:/Users/vikvador/Documents/TFE/PYQG_Ocean-parameterizations-in-an-idealized-model/notebooks/N3-CNN.ipynb#W3sZmlsZQ%3D%3D?line=0'>1</a>\u001b[0m param \u001b[39m=\u001b[39m FCNNParameterization(\u001b[39m'\u001b[39m\u001b[39m../models/fcnn_q_to_Sqtot1\u001b[39m\u001b[39m'\u001b[39m)\n\u001b[1;32m      <a href='vscode-notebook-cell:/Users/vikvador/Documents/TFE/PYQG_Ocean-parameterizations-in-an-idealized-model/notebooks/N3-CNN.ipynb#W3sZmlsZQ%3D%3D?line=2'>3</a>\u001b[0m \u001b[39m# Print out a summary of its architecture -- note the circular padding, which was particularly important for performance.\u001b[39;00m\n\u001b[1;32m      <a href='vscode-notebook-cell:/Users/vikvador/Documents/TFE/PYQG_Ocean-parameterizations-in-an-idealized-model/notebooks/N3-CNN.ipynb#W3sZmlsZQ%3D%3D?line=3'>4</a>\u001b[0m param\u001b[39m.\u001b[39mmodels[\u001b[39m0\u001b[39m]\n",
      "\u001b[0;31mNameError\u001b[0m: name 'FCNNParameterization' is not defined"
     ]
    }
   ],
   "source": [
    "param = FCNNParameterization('../models/fcnn_q_to_Sqtot1')\n",
    "\n",
    "# Print out a summary of its architecture -- note the circular padding, which was particularly important for performance.\n",
    "param.models[0]"
   ]
  },
  {
   "cell_type": "code",
   "execution_count": null,
   "metadata": {},
   "outputs": [],
   "source": [
    "# Datasets are hosted on globus as zarr files\n",
    "def get_dataset(path, base_url=\"https://g-402b74.00888.8540.data.globus.org\"):\n",
    "    mapper = fsspec.get_mapper(f\"{base_url}/{path}.zarr\")\n",
    "    return xr.open_zarr(mapper, consolidated=True)"
   ]
  },
  {
   "cell_type": "code",
   "execution_count": null,
   "metadata": {},
   "outputs": [],
   "source": [
    "# This dataset has the same distribution as the FCNN's training data, but is not something the FCNN has seen\n",
    "# (we regenerated the dataset after pyqg changes which standardized/saved more diagnostics).\n",
    "eddy_forcing1 = get_dataset('eddy/forcing1').isel(run=0).load()\n",
    "eddy_forcing1['q_forcing_total'] = eddy_forcing1.dqdt_bar - eddy_forcing1.dqbar_dt"
   ]
  },
  {
   "cell_type": "markdown",
   "metadata": {},
   "source": [
    "## Test it offline"
   ]
  },
  {
   "cell_type": "code",
   "execution_count": null,
   "id": "ba017e48",
   "metadata": {},
   "outputs": [],
   "source": [
    "print(eddy_forcing1)"
   ]
  },
  {
   "cell_type": "code",
   "execution_count": null,
   "metadata": {},
   "outputs": [],
   "source": [
    "preds = param.test_offline(eddy_forcing1)"
   ]
  },
  {
   "cell_type": "code",
   "execution_count": null,
   "metadata": {},
   "outputs": [],
   "source": [
    "def imshow(arr):\n",
    "    plt.imshow(arr, vmin=0, vmax=1, cmap='inferno')\n",
    "    mean = arr.mean().data\n",
    "    plt.text(32, 32, f\"{mean:.2f}\", color=('white' if mean<0.75 else 'black'),\n",
    "             fontweight='bold', ha='center', va='center', fontsize=16)\n",
    "    plt.xticks([]); plt.yticks([])\n",
    "    \n",
    "def colorbar(label):\n",
    "    plt.colorbar().set_label(label, fontsize=16,rotation=0,ha='left',va='center')\n",
    "    \n",
    "plt.figure(figsize=(7.6,6)).suptitle(\"Offline performance\")\n",
    "\n",
    "# Looping over all levels of the simulation\n",
    "for z in [0,1]:\n",
    "    plt.subplot(2,2,z+1,title=f\"{['Upper','Lower'][z]} layer\")\n",
    "    imshow(preds.q_forcing_total_spatial_correlation.isel(lev=z))\n",
    "    if z: colorbar(\"Correlation\")\n",
    "    \n",
    "for z in [0,1]:\n",
    "    plt.subplot(2,2,z+3)\n",
    "    imshow(preds.q_forcing_total_spatial_skill.isel(lev=z))\n",
    "    if z: colorbar(\"$R^2$\")"
   ]
  },
  {
   "cell_type": "markdown",
   "metadata": {},
   "source": [
    "Compared to [our symbolic regression results](./hybrid_symbolic.ipynb), the FCNN's offline performance is clearly stronger."
   ]
  },
  {
   "cell_type": "markdown",
   "metadata": {},
   "source": [
    "## Run it online (if you have a GPU)\n",
    "\n",
    "This may take a while if you don't:"
   ]
  },
  {
   "cell_type": "code",
   "execution_count": null,
   "metadata": {},
   "outputs": [],
   "source": [
    "%%time\n",
    "hires = get_dataset('eddy/high_res').isel(run=0)\n",
    "lores = get_dataset('eddy/low_res').isel(run=0)\n",
    "param_run = param.run_online(**json.loads(eddy_forcing1.pyqg_params))"
   ]
  },
  {
   "cell_type": "markdown",
   "metadata": {},
   "source": [
    "Even with a GPU, it takes a similar amount of time to run an FCNN-parameterized as it does to run a high-res simulation! But let's take a look:"
   ]
  },
  {
   "cell_type": "code",
   "execution_count": null,
   "metadata": {},
   "outputs": [],
   "source": [
    "eddy_sims = [(hires, 'High-res'),(lores, 'Low-res'),(param_run,'Low-res+FCNN')]\n",
    "fig = energy_budget_figure(eddy_sims)\n",
    "fig.suptitle(\"Energy budget comparison, fully convolutional neural network\")\n",
    "plt.tight_layout()\n",
    "plt.show()"
   ]
  },
  {
   "cell_type": "markdown",
   "metadata": {},
   "source": [
    "Overall, this seems to be an improvement. In our paper, we quantify these differences using a ratio of FCNN-highres and lowres-highres differences.\n",
    "\n",
    "Let's look at some raw data snapshots just to confirm everything looks ok:"
   ]
  },
  {
   "cell_type": "code",
   "execution_count": null,
   "metadata": {},
   "outputs": [],
   "source": [
    "plt.figure(figsize=(13,4)).suptitle(\"Upper PV snapshots\")\n",
    "for i, (m, label) in enumerate(eddy_sims):\n",
    "    plt.subplot(1,3,i+1, title=label)\n",
    "    plt.imshow(m.q.isel(lev=0,time=-1), cmap='bwr', vmin=-3e-5, vmax=3e-5)\n",
    "plt.colorbar(label=\"Upper PV [$s^{-1}$]\")\n",
    "plt.tight_layout()"
   ]
  },
  {
   "cell_type": "markdown",
   "metadata": {},
   "source": [
    "The FCNN-parameterized model seems to have larger overall values for the upper PV. We can also confirm this by looking at marginal distributions:"
   ]
  },
  {
   "cell_type": "code",
   "execution_count": null,
   "metadata": {},
   "outputs": [],
   "source": [
    "from scipy.stats import gaussian_kde\n",
    "plt.title(\"Differences in distributions of quasi-steady $q_1$\")\n",
    "for i, (m, label) in enumerate(eddy_sims):\n",
    "    data = m.q.isel(lev=0,time=slice(-20,None)).data.ravel()\n",
    "    dist = gaussian_kde(data)\n",
    "    x = np.linspace(*np.percentile(data, [1,99]), 1000)\n",
    "    plt.plot(x, dist(x), label=label, lw=3, ls=('--' if 'FCNN' in label else '-'))\n",
    "plt.legend()\n",
    "plt.xlabel(\"Upper PV [$s^{-1}$]\")\n",
    "plt.ylabel(\"Probability density\")\n",
    "plt.tight_layout()"
   ]
  },
  {
   "cell_type": "markdown",
   "metadata": {},
   "source": [
    "The FCNN's distribution is much, much closer. In the paper, we quantify this with Wasserstein distance over a much larger set of variables.\n",
    "\n",
    "## Testing generalization\n",
    "\n",
    "Now, although our FCNN performs well in a context that matches its training data, neural networks often have trouble generalizing to new domains. Let's try it with a second \"jet\" configuration:"
   ]
  },
  {
   "cell_type": "code",
   "execution_count": null,
   "metadata": {},
   "outputs": [],
   "source": [
    "# This dataset has the same distribution as the FCNN's training data, but is not something the FCNN has seen\n",
    "# (we regenerated the dataset after pyqg changes which standardized/saved more diagnostics).\n",
    "jet_forcing1 = get_dataset('jet/forcing1').isel(run=0).load()\n",
    "jet_forcing1['q_forcing_total'] = jet_forcing1.dqdt_bar - jet_forcing1.dqbar_dt"
   ]
  },
  {
   "cell_type": "code",
   "execution_count": null,
   "metadata": {},
   "outputs": [],
   "source": [
    "preds2 = param.test_offline(jet_forcing1)"
   ]
  },
  {
   "cell_type": "code",
   "execution_count": null,
   "metadata": {},
   "outputs": [],
   "source": [
    "plt.figure(figsize=(7.6,6)).suptitle(\"Offline performance, jet config\")\n",
    "\n",
    "for z in [0,1]:\n",
    "    plt.subplot(2,2,z+1,title=f\"{['Upper','Lower'][z]} layer\")\n",
    "    imshow(preds2.q_forcing_total_spatial_correlation.isel(lev=z))\n",
    "    if z: colorbar(\"Correlation\")\n",
    "    \n",
    "for z in [0,1]:\n",
    "    plt.subplot(2,2,z+3)\n",
    "    imshow(preds2.q_forcing_total_spatial_skill.isel(lev=z))\n",
    "    if z: colorbar(\"$R^2$\")"
   ]
  },
  {
   "cell_type": "markdown",
   "metadata": {},
   "source": [
    "Although the FCNN's correlation is still reasonably high, its $R^2$ drops significantly, going negative in the lower layer. Note that across different random restarts, FCNN behavior varies here (some models have negative $R^2$s in both layers, even going down to -5 or lower).\n",
    "\n",
    "Let's see what happens online:"
   ]
  },
  {
   "cell_type": "code",
   "execution_count": null,
   "metadata": {},
   "outputs": [],
   "source": [
    "hires2 = get_dataset('jet/high_res').isel(run=0)\n",
    "lores2 = get_dataset('jet/low_res').isel(run=0)\n",
    "param_run2 = param.run_online(**json.loads(jet_forcing1.pyqg_params))"
   ]
  },
  {
   "cell_type": "code",
   "execution_count": null,
   "metadata": {},
   "outputs": [],
   "source": [
    "jet_sims = [(hires2, 'High-res'),(lores2, 'Low-res'),(param_run2,'Low-res+FCNN')]\n",
    "fig = energy_budget_figure(jet_sims, skip=3) # skip first 3 wavenumbers so the plot limits are more readable\n",
    "fig.suptitle(\"Energy budget comparison, fully convolutional neural network on jet config\")\n",
    "plt.tight_layout()\n",
    "plt.show()"
   ]
  },
  {
   "cell_type": "markdown",
   "metadata": {},
   "source": [
    "There appears to be much too much energy in the FCNN-parameterized simulation. Let's take a look at snapshots again to see what's happening:"
   ]
  },
  {
   "cell_type": "code",
   "execution_count": null,
   "metadata": {},
   "outputs": [],
   "source": [
    "plt.figure(figsize=(13,4)).suptitle(\"Upper PV snapshots, jet config\")\n",
    "for i, (m, label) in enumerate(jet_sims):\n",
    "    plt.subplot(1,3,i+1, title=label)\n",
    "    plt.imshow(m.q.isel(lev=0,time=-1), cmap='bwr', vmin=-3e-5, vmax=3e-5)\n",
    "plt.colorbar(label=\"Upper PV [$s^{-1}$]\")\n",
    "plt.tight_layout()"
   ]
  },
  {
   "cell_type": "markdown",
   "metadata": {},
   "source": [
    "Instead of a coherent and vertically symmetrical 4-jet pattern, we see significant global structure that almost resembles a single jet. This problem could likely be mitigated by training on a more diverse set of data."
   ]
  }
 ],
 "metadata": {
  "kernelspec": {
   "display_name": "Python 3.9.13 ('base')",
   "language": "python",
   "name": "python3"
  },
  "language_info": {
   "codemirror_mode": {
    "name": "ipython",
    "version": 3
   },
   "file_extension": ".py",
   "mimetype": "text/x-python",
   "name": "python",
   "nbconvert_exporter": "python",
   "pygments_lexer": "ipython3",
   "version": "3.9.13 (main, Aug 25 2022, 18:29:29) \n[Clang 12.0.0 ]"
  },
  "vscode": {
   "interpreter": {
    "hash": "c6970a6b860234838f15385a694e4c719e6911821bb317b2dd9580ae5d017ecf"
   }
  }
 },
 "nbformat": 4,
 "nbformat_minor": 5
}
