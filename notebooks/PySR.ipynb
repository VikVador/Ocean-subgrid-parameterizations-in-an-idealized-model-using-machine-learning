{
 "cells": [
  {
   "cell_type": "markdown",
   "metadata": {
    "id": "DS4E1PagbDgL"
   },
   "source": [
    "<img src=\"assets/header_notebook.jpg\" />"
   ]
  },
  {
   "cell_type": "markdown",
   "metadata": {},
   "source": [
    "<hr style=\"color:#5A7D9F;\">\n",
    "<p align=\"center\">\n",
    "    <b style=\"font-size:2vw; color:#5A7D9F; font-weight:bold;\">\n",
    "    <center>Librairies</center>\n",
    "    </b>\n",
    "</p>\n",
    "<hr style=\"color:#5A7D9F;\">\n",
    "\n",
    "Run the following commands on terminal to install PySR:\n",
    "\n",
    "```\n",
    "python\n",
    "import pysr\n",
    "pysr.install(precompile = False)\n",
    "```\n",
    "\n",
    "Now you are good to go !\n"
   ]
  },
  {
   "cell_type": "code",
   "execution_count": null,
   "metadata": {},
   "outputs": [],
   "source": [
    "import pysr\n",
    "import numpy as     np\n",
    "\n",
    "from   pysr        import PySRRegressor\n",
    "from   matplotlib  import pyplot as plt\n",
    "from   sympy       import *\n",
    "from   julia       import Julia\n",
    "\n",
    "# Installing Julia\n",
    "julia = Julia(compiled_modules = False, threads = 'auto')\n",
    "\n",
    "from julia       import Main\n",
    "from julia.tools import redirect_output_streams\n",
    "\n",
    "# Used to display correctly Julia's output\n",
    "redirect_output_streams()"
   ]
  },
  {
   "cell_type": "markdown",
   "metadata": {
    "id": "TTtX1siDE1V0"
   },
   "source": [
    "<hr style=\"color:#5A7D9F;\">\n",
    "<p align=\"center\">\n",
    "    <b style=\"font-size:2vw; color:#5A7D9F; font-weight:bold;\">\n",
    "    <center>PySR - Playground</center>\n",
    "    </b>\n",
    "</p>\n",
    "<hr style=\"color:#5A7D9F;\">"
   ]
  },
  {
   "cell_type": "code",
   "execution_count": 7,
   "metadata": {
    "colab": {
     "base_uri": "https://localhost:8080/"
    },
    "id": "f1igHyS1E02j",
    "outputId": "7c8c0198-9bdd-4c2c-b95e-45fd3ef591e4"
   },
   "outputs": [
    {
     "name": "stdout",
     "output_type": "stream",
     "text": [
      "(1, 64, 64) (1, 64, 64) (1, 64, 64)\n",
      "(4096,) (4096,) (4096,)\n",
      "(4096, 1) (4096, 1) (4096, 1)\n",
      "(4096, 3)\n",
      "(4096, 1, 3)\n",
      "(4096,)\n",
      "(4096, 1, 1)\n",
      "(4096, 1, 4)\n",
      "(4096,)\n",
      "(4096, 1, 1)\n"
     ]
    }
   ],
   "source": [
    "np.random.seed(0)\n",
    "\n",
    "# Initialization of the fake datasets\n",
    "u =  np.random.randn(1, 64, 64)\n",
    "v =  np.random.randn(1, 64, 64)\n",
    "q =  np.random.randn(1, 64, 64)\n",
    "\n",
    "print(u.shape, v.shape, q.shape)\n",
    "\n",
    "# ------- SHAPING X0 --------\n",
    "# Note : 1st dimension = Values for u, v, q\n",
    "#        2nd dimension = snapshot index\n",
    "#        3rd dimension = input variable index\n",
    "u = u.flatten('F')\n",
    "v = v.flatten('F')\n",
    "q = q.flatten('F')\n",
    "\n",
    "print(u.shape, v.shape, q.shape)\n",
    "\n",
    "u = np.expand_dims(u, axis = 1)\n",
    "v = np.expand_dims(v, axis = 1)\n",
    "q = np.expand_dims(q, axis = 1)\n",
    "\n",
    "print(u.shape, v.shape, q.shape)\n",
    "\n",
    "X0 = np.concatenate((u, v, q), axis = 1)\n",
    "\n",
    "print(X0.shape)\n",
    "\n",
    "X0 = np.expand_dims(X0, axis = 1)\n",
    "\n",
    "print(X0.shape)\n",
    "\n",
    "# ------- SHAPING X1 --------\n",
    "# X1 = cos(u) + v * q^2\n",
    "\n",
    "X1 = np.cos(X0[:, 0, 0]) + X0[:, 0, 1] * X0[:, 0, 2]**2\n",
    "\n",
    "print(X1.shape)\n",
    "\n",
    "X1 = np.expand_dims(X1, axis = (1, 2))\n",
    "\n",
    "print(X1.shape)\n",
    "\n",
    "# ------- SHAPING X2 --------\n",
    "# X2 = [X0, X1]\n",
    "\n",
    "X2 = np.concatenate((X0, X1), axis = 2)\n",
    "\n",
    "print(X2.shape)\n",
    "\n",
    "# ------- SHAPING X3 --------\n",
    "# X3 = exp(u) + q * X1 - v**2\n",
    "\n",
    "X3 = np.exp(X2[:, 0, 0]) - X2[:, 0, 1]**2 + X2[:, 0, 2] * X2[:, 0, 3]\n",
    "\n",
    "print(X3.shape)\n",
    "\n",
    "X3 = np.expand_dims(X3, axis = (1, 2))\n",
    "\n",
    "print(X3.shape)"
   ]
  },
  {
   "cell_type": "code",
   "execution_count": 8,
   "metadata": {
    "id": "iBLQ8ccn_VbC"
   },
   "outputs": [],
   "source": [
    "\"\"\"\n",
    "---- Equations ----\n",
    "X0 = 1st dimension = Values for u, v, q\n",
    "     2nd dimension = snapshot index\n",
    "     3rd dimension = input variable index\n",
    "X1 = cos(u) + v * q^2\n",
    "X2 = [X0, X1]\n",
    "X3 = exp(u) + q * X1 - v**2\n",
    "\"\"\"\n",
    "\n",
    "# Random indexes (small sample size needed by PySR)\n",
    "idx = np.random.randint(0, 4095, size = 1000)\n",
    "\n",
    "# Initialization of the models\n",
    "model_f = PySRRegressor(\n",
    "    model_selection  = 'best',\n",
    "    binary_operators = [\"plus\", \"sub\", \"mult\", \"div\"],\n",
    "    unary_operators  = [\"square\", \"cube\", \"exp\", \"log\", \"sqrt\", \"sin\", \"cos\", \"tanh\", \"erf\"],\n",
    "    niterations      = 2,\n",
    "    procs            = 4,\n",
    "    populations      = 100,\n",
    ")\n",
    "\n",
    "model_g = PySRRegressor(\n",
    "    model_selection  = 'best',\n",
    "    binary_operators = [\"plus\", \"sub\", \"mult\", \"div\"],\n",
    "    unary_operators  = [\"square\", \"cube\", \"exp\", \"log\", \"sqrt\", \"sin\", \"cos\", \"tanh\", \"erf\"],\n",
    "    niterations      = 2,\n",
    "    procs            = 4,\n",
    "    populations      = 100,\n",
    ")"
   ]
  },
  {
   "cell_type": "code",
   "execution_count": null,
   "metadata": {
    "id": "Y-asAp07G5Ea"
   },
   "outputs": [],
   "source": [
    "\"\"\"\n",
    "g(u, v, q, f(X0)) = exp(u) + q * X1 - v**2\n",
    "\"\"\"\n",
    "\n",
    "print(X0.shape, X1.shape)\n",
    "\n",
    "X0_PYSR = X0.squeeze(axis = 1)\n",
    "X1_PYSR = X1.squeeze(axis = 1)\n",
    "\n",
    "print(X0_PYSR.shape, X1_PYSR.shape)\n",
    "\n",
    "# Fitting the model (1) - Finding function f\n",
    "model_f.fit(X0_PYSR[idx, :], X1_PYSR[idx, :])"
   ]
  },
  {
   "cell_type": "code",
   "execution_count": 15,
   "metadata": {
    "colab": {
     "base_uri": "https://localhost:8080/",
     "height": 251
    },
    "id": "Hu-f0XjYGwVR",
    "outputId": "216d4dde-005c-47ff-d7ff-196beae116d5"
   },
   "outputs": [
    {
     "data": {
      "text/html": [
       "<style>#sk-container-id-4 {color: black;background-color: white;}#sk-container-id-4 pre{padding: 0;}#sk-container-id-4 div.sk-toggleable {background-color: white;}#sk-container-id-4 label.sk-toggleable__label {cursor: pointer;display: block;width: 100%;margin-bottom: 0;padding: 0.3em;box-sizing: border-box;text-align: center;}#sk-container-id-4 label.sk-toggleable__label-arrow:before {content: \"▸\";float: left;margin-right: 0.25em;color: #696969;}#sk-container-id-4 label.sk-toggleable__label-arrow:hover:before {color: black;}#sk-container-id-4 div.sk-estimator:hover label.sk-toggleable__label-arrow:before {color: black;}#sk-container-id-4 div.sk-toggleable__content {max-height: 0;max-width: 0;overflow: hidden;text-align: left;background-color: #f0f8ff;}#sk-container-id-4 div.sk-toggleable__content pre {margin: 0.2em;color: black;border-radius: 0.25em;background-color: #f0f8ff;}#sk-container-id-4 input.sk-toggleable__control:checked~div.sk-toggleable__content {max-height: 200px;max-width: 100%;overflow: auto;}#sk-container-id-4 input.sk-toggleable__control:checked~label.sk-toggleable__label-arrow:before {content: \"▾\";}#sk-container-id-4 div.sk-estimator input.sk-toggleable__control:checked~label.sk-toggleable__label {background-color: #d4ebff;}#sk-container-id-4 div.sk-label input.sk-toggleable__control:checked~label.sk-toggleable__label {background-color: #d4ebff;}#sk-container-id-4 input.sk-hidden--visually {border: 0;clip: rect(1px 1px 1px 1px);clip: rect(1px, 1px, 1px, 1px);height: 1px;margin: -1px;overflow: hidden;padding: 0;position: absolute;width: 1px;}#sk-container-id-4 div.sk-estimator {font-family: monospace;background-color: #f0f8ff;border: 1px dotted black;border-radius: 0.25em;box-sizing: border-box;margin-bottom: 0.5em;}#sk-container-id-4 div.sk-estimator:hover {background-color: #d4ebff;}#sk-container-id-4 div.sk-parallel-item::after {content: \"\";width: 100%;border-bottom: 1px solid gray;flex-grow: 1;}#sk-container-id-4 div.sk-label:hover label.sk-toggleable__label {background-color: #d4ebff;}#sk-container-id-4 div.sk-serial::before {content: \"\";position: absolute;border-left: 1px solid gray;box-sizing: border-box;top: 0;bottom: 0;left: 50%;z-index: 0;}#sk-container-id-4 div.sk-serial {display: flex;flex-direction: column;align-items: center;background-color: white;padding-right: 0.2em;padding-left: 0.2em;position: relative;}#sk-container-id-4 div.sk-item {position: relative;z-index: 1;}#sk-container-id-4 div.sk-parallel {display: flex;align-items: stretch;justify-content: center;background-color: white;position: relative;}#sk-container-id-4 div.sk-item::before, #sk-container-id-4 div.sk-parallel-item::before {content: \"\";position: absolute;border-left: 1px solid gray;box-sizing: border-box;top: 0;bottom: 0;left: 50%;z-index: -1;}#sk-container-id-4 div.sk-parallel-item {display: flex;flex-direction: column;z-index: 1;position: relative;background-color: white;}#sk-container-id-4 div.sk-parallel-item:first-child::after {align-self: flex-end;width: 50%;}#sk-container-id-4 div.sk-parallel-item:last-child::after {align-self: flex-start;width: 50%;}#sk-container-id-4 div.sk-parallel-item:only-child::after {width: 0;}#sk-container-id-4 div.sk-dashed-wrapped {border: 1px dashed gray;margin: 0 0.4em 0.5em 0.4em;box-sizing: border-box;padding-bottom: 0.4em;background-color: white;}#sk-container-id-4 div.sk-label label {font-family: monospace;font-weight: bold;display: inline-block;line-height: 1.2em;}#sk-container-id-4 div.sk-label-container {text-align: center;}#sk-container-id-4 div.sk-container {/* jupyter's `normalize.less` sets `[hidden] { display: none; }` but bootstrap.min.css set `[hidden] { display: none !important; }` so we also need the `!important` here to be able to override the default hidden behavior on the sphinx rendered scikit-learn.org. See: https://github.com/scikit-learn/scikit-learn/issues/21755 */display: inline-block !important;position: relative;}#sk-container-id-4 div.sk-text-repr-fallback {display: none;}</style><div id=\"sk-container-id-4\" class=\"sk-top-container\"><div class=\"sk-text-repr-fallback\"><pre>PySRRegressor.equations_ = [\n",
       "\t   pick      score                          equation          loss  complexity\n",
       "\t0         0.000000                                x1  2.345894e+00           1\n",
       "\t1         0.097441                 (x1 + 0.64449674)  1.930512e+00           3\n",
       "\t2         1.202316                 (square(x2) * x1)  5.801138e-01           4\n",
       "\t3         0.526906  ((square(x2) * x1) + 0.61472446)  2.022313e-01           6\n",
       "\t4  &gt;&gt;&gt;&gt;  29.960578     ((square(x2) * x1) + cos(x0))  1.968497e-14           7\n",
       "]</pre><b>In a Jupyter environment, please rerun this cell to show the HTML representation or trust the notebook. <br />On GitHub, the HTML representation is unable to render, please try loading this page with nbviewer.org.</b></div><div class=\"sk-container\" hidden><div class=\"sk-item\"><div class=\"sk-estimator sk-toggleable\"><input class=\"sk-toggleable__control sk-hidden--visually\" id=\"sk-estimator-id-4\" type=\"checkbox\" checked><label for=\"sk-estimator-id-4\" class=\"sk-toggleable__label sk-toggleable__label-arrow\">PySRRegressor</label><div class=\"sk-toggleable__content\"><pre>PySRRegressor.equations_ = [\n",
       "\t   pick      score                          equation          loss  complexity\n",
       "\t0         0.000000                                x1  2.345894e+00           1\n",
       "\t1         0.097441                 (x1 + 0.64449674)  1.930512e+00           3\n",
       "\t2         1.202316                 (square(x2) * x1)  5.801138e-01           4\n",
       "\t3         0.526906  ((square(x2) * x1) + 0.61472446)  2.022313e-01           6\n",
       "\t4  &gt;&gt;&gt;&gt;  29.960578     ((square(x2) * x1) + cos(x0))  1.968497e-14           7\n",
       "]</pre></div></div></div></div></div>"
      ],
      "text/plain": [
       "PySRRegressor.equations_ = [\n",
       "\t   pick      score                          equation          loss  complexity\n",
       "\t0         0.000000                                x1  2.345894e+00           1\n",
       "\t1         0.097441                 (x1 + 0.64449674)  1.930512e+00           3\n",
       "\t2         1.202316                 (square(x2) * x1)  5.801138e-01           4\n",
       "\t3         0.526906  ((square(x2) * x1) + 0.61472446)  2.022313e-01           6\n",
       "\t4  >>>>  29.960578     ((square(x2) * x1) + cos(x0))  1.968497e-14           7\n",
       "]"
      ]
     },
     "execution_count": 15,
     "metadata": {},
     "output_type": "execute_result"
    }
   ],
   "source": [
    "# ---- Table of results ----\n",
    "model_f"
   ]
  },
  {
   "cell_type": "code",
   "execution_count": 16,
   "metadata": {
    "colab": {
     "base_uri": "https://localhost:8080/",
     "height": 38
    },
    "id": "Q9N6VQgaGDlT",
    "outputId": "b64052cc-b7a2-4fdb-e4e4-cf41a8151118"
   },
   "outputs": [
    {
     "data": {
      "text/latex": [
       "$\\displaystyle x_{1} x_{2}^{2} + \\cos{\\left(x_{0} \\right)}$"
      ],
      "text/plain": [
       "x1*x2**2 + cos(x0)"
      ]
     },
     "execution_count": 16,
     "metadata": {},
     "output_type": "execute_result"
    }
   ],
   "source": [
    "# ---- Best equation ----\n",
    "model_f.sympy()"
   ]
  },
  {
   "cell_type": "code",
   "execution_count": 17,
   "metadata": {
    "colab": {
     "base_uri": "https://localhost:8080/",
     "height": 279
    },
    "id": "ElbtpV9UGyhS",
    "outputId": "5b7dc9d3-8489-4e33-e4e2-bf6d0d528112"
   },
   "outputs": [
    {
     "data": {
      "image/png": "[encoded data removed]",
      "text/plain": [
       "<Figure size 640x480 with 1 Axes>"
      ]
     },
     "metadata": {},
     "output_type": "display_data"
    }
   ],
   "source": [
    "# ---- Plotting equation ----\n",
    "from matplotlib import pyplot as plt\n",
    "\n",
    "plt.scatter(X1_PYSR[:, :], model_f.predict(X0_PYSR[:, :]))\n",
    "plt.xlabel('Truth')\n",
    "plt.ylabel('Prediction')\n",
    "plt.show()"
   ]
  },
  {
   "cell_type": "code",
   "execution_count": null,
   "metadata": {
    "id": "LpFucp_tAiup"
   },
   "outputs": [],
   "source": [
    "\"\"\"\n",
    "g(u, v, q, f(X0)) = exp(u) + q * X1 - v**2\n",
    "\"\"\"\n",
    "\n",
    "print(X2.shape, X3.shape)\n",
    "\n",
    "X2_PYSR = X2.squeeze(axis = 1)\n",
    "X3_PYSR = X3.squeeze(axis = 1)\n",
    "\n",
    "print(X2_PYSR.shape, X3_PYSR.shape)\n",
    "\n",
    "# Fitting the model (2) - Finding function g\n",
    "model_g.fit(X2_PYSR[idx, :], X3_PYSR[idx, :])"
   ]
  },
  {
   "cell_type": "code",
   "execution_count": 19,
   "metadata": {
    "colab": {
     "base_uri": "https://localhost:8080/",
     "height": 251
    },
    "id": "aiVnnsIaIKJR",
    "outputId": "58f12ad7-cde1-45e8-afdd-992cca659882"
   },
   "outputs": [
    {
     "data": {
      "text/html": [
       "<style>#sk-container-id-6 {color: black;background-color: white;}#sk-container-id-6 pre{padding: 0;}#sk-container-id-6 div.sk-toggleable {background-color: white;}#sk-container-id-6 label.sk-toggleable__label {cursor: pointer;display: block;width: 100%;margin-bottom: 0;padding: 0.3em;box-sizing: border-box;text-align: center;}#sk-container-id-6 label.sk-toggleable__label-arrow:before {content: \"▸\";float: left;margin-right: 0.25em;color: #696969;}#sk-container-id-6 label.sk-toggleable__label-arrow:hover:before {color: black;}#sk-container-id-6 div.sk-estimator:hover label.sk-toggleable__label-arrow:before {color: black;}#sk-container-id-6 div.sk-toggleable__content {max-height: 0;max-width: 0;overflow: hidden;text-align: left;background-color: #f0f8ff;}#sk-container-id-6 div.sk-toggleable__content pre {margin: 0.2em;color: black;border-radius: 0.25em;background-color: #f0f8ff;}#sk-container-id-6 input.sk-toggleable__control:checked~div.sk-toggleable__content {max-height: 200px;max-width: 100%;overflow: auto;}#sk-container-id-6 input.sk-toggleable__control:checked~label.sk-toggleable__label-arrow:before {content: \"▾\";}#sk-container-id-6 div.sk-estimator input.sk-toggleable__control:checked~label.sk-toggleable__label {background-color: #d4ebff;}#sk-container-id-6 div.sk-label input.sk-toggleable__control:checked~label.sk-toggleable__label {background-color: #d4ebff;}#sk-container-id-6 input.sk-hidden--visually {border: 0;clip: rect(1px 1px 1px 1px);clip: rect(1px, 1px, 1px, 1px);height: 1px;margin: -1px;overflow: hidden;padding: 0;position: absolute;width: 1px;}#sk-container-id-6 div.sk-estimator {font-family: monospace;background-color: #f0f8ff;border: 1px dotted black;border-radius: 0.25em;box-sizing: border-box;margin-bottom: 0.5em;}#sk-container-id-6 div.sk-estimator:hover {background-color: #d4ebff;}#sk-container-id-6 div.sk-parallel-item::after {content: \"\";width: 100%;border-bottom: 1px solid gray;flex-grow: 1;}#sk-container-id-6 div.sk-label:hover label.sk-toggleable__label {background-color: #d4ebff;}#sk-container-id-6 div.sk-serial::before {content: \"\";position: absolute;border-left: 1px solid gray;box-sizing: border-box;top: 0;bottom: 0;left: 50%;z-index: 0;}#sk-container-id-6 div.sk-serial {display: flex;flex-direction: column;align-items: center;background-color: white;padding-right: 0.2em;padding-left: 0.2em;position: relative;}#sk-container-id-6 div.sk-item {position: relative;z-index: 1;}#sk-container-id-6 div.sk-parallel {display: flex;align-items: stretch;justify-content: center;background-color: white;position: relative;}#sk-container-id-6 div.sk-item::before, #sk-container-id-6 div.sk-parallel-item::before {content: \"\";position: absolute;border-left: 1px solid gray;box-sizing: border-box;top: 0;bottom: 0;left: 50%;z-index: -1;}#sk-container-id-6 div.sk-parallel-item {display: flex;flex-direction: column;z-index: 1;position: relative;background-color: white;}#sk-container-id-6 div.sk-parallel-item:first-child::after {align-self: flex-end;width: 50%;}#sk-container-id-6 div.sk-parallel-item:last-child::after {align-self: flex-start;width: 50%;}#sk-container-id-6 div.sk-parallel-item:only-child::after {width: 0;}#sk-container-id-6 div.sk-dashed-wrapped {border: 1px dashed gray;margin: 0 0.4em 0.5em 0.4em;box-sizing: border-box;padding-bottom: 0.4em;background-color: white;}#sk-container-id-6 div.sk-label label {font-family: monospace;font-weight: bold;display: inline-block;line-height: 1.2em;}#sk-container-id-6 div.sk-label-container {text-align: center;}#sk-container-id-6 div.sk-container {/* jupyter's `normalize.less` sets `[hidden] { display: none; }` but bootstrap.min.css set `[hidden] { display: none !important; }` so we also need the `!important` here to be able to override the default hidden behavior on the sphinx rendered scikit-learn.org. See: https://github.com/scikit-learn/scikit-learn/issues/21755 */display: inline-block !important;position: relative;}#sk-container-id-6 div.sk-text-repr-fallback {display: none;}</style><div id=\"sk-container-id-6\" class=\"sk-top-container\"><div class=\"sk-text-repr-fallback\"><pre>PySRRegressor.equations_ = [\n",
       "\t   pick      score                              equation          loss  \\\n",
       "\t0         0.000000                                    x0  1.793682e+01   \n",
       "\t1         0.328417                               exp(x0)  1.291563e+01   \n",
       "\t2         0.314336                             (x2 * x3)  9.431950e+00   \n",
       "\t3         0.173397                      (x0 + (x2 * x3))  6.667928e+00   \n",
       "\t4         0.911944                 (exp(x0) + (x2 * x3))  2.678790e+00   \n",
       "\t5         0.206311  ((exp(x0) + (x2 * x3)) + -0.9521912)  1.773125e+00   \n",
       "\t6  &gt;&gt;&gt;&gt;  30.562349  (exp(x0) + ((x2 * x3) - square(x1)))  9.455401e-14   \n",
       "\t\n",
       "\t   complexity  \n",
       "\t0           1  \n",
       "\t1           2  \n",
       "\t2           3  \n",
       "\t3           5  \n",
       "\t4           6  \n",
       "\t5           8  \n",
       "\t6           9  \n",
       "]</pre><b>In a Jupyter environment, please rerun this cell to show the HTML representation or trust the notebook. <br />On GitHub, the HTML representation is unable to render, please try loading this page with nbviewer.org.</b></div><div class=\"sk-container\" hidden><div class=\"sk-item\"><div class=\"sk-estimator sk-toggleable\"><input class=\"sk-toggleable__control sk-hidden--visually\" id=\"sk-estimator-id-6\" type=\"checkbox\" checked><label for=\"sk-estimator-id-6\" class=\"sk-toggleable__label sk-toggleable__label-arrow\">PySRRegressor</label><div class=\"sk-toggleable__content\"><pre>PySRRegressor.equations_ = [\n",
       "\t   pick      score                              equation          loss  \\\n",
       "\t0         0.000000                                    x0  1.793682e+01   \n",
       "\t1         0.328417                               exp(x0)  1.291563e+01   \n",
       "\t2         0.314336                             (x2 * x3)  9.431950e+00   \n",
       "\t3         0.173397                      (x0 + (x2 * x3))  6.667928e+00   \n",
       "\t4         0.911944                 (exp(x0) + (x2 * x3))  2.678790e+00   \n",
       "\t5         0.206311  ((exp(x0) + (x2 * x3)) + -0.9521912)  1.773125e+00   \n",
       "\t6  &gt;&gt;&gt;&gt;  30.562349  (exp(x0) + ((x2 * x3) - square(x1)))  9.455401e-14   \n",
       "\t\n",
       "\t   complexity  \n",
       "\t0           1  \n",
       "\t1           2  \n",
       "\t2           3  \n",
       "\t3           5  \n",
       "\t4           6  \n",
       "\t5           8  \n",
       "\t6           9  \n",
       "]</pre></div></div></div></div></div>"
      ],
      "text/plain": [
       "PySRRegressor.equations_ = [\n",
       "\t   pick      score                              equation          loss  \\\n",
       "\t0         0.000000                                    x0  1.793682e+01   \n",
       "\t1         0.328417                               exp(x0)  1.291563e+01   \n",
       "\t2         0.314336                             (x2 * x3)  9.431950e+00   \n",
       "\t3         0.173397                      (x0 + (x2 * x3))  6.667928e+00   \n",
       "\t4         0.911944                 (exp(x0) + (x2 * x3))  2.678790e+00   \n",
       "\t5         0.206311  ((exp(x0) + (x2 * x3)) + -0.9521912)  1.773125e+00   \n",
       "\t6  >>>>  30.562349  (exp(x0) + ((x2 * x3) - square(x1)))  9.455401e-14   \n",
       "\t\n",
       "\t   complexity  \n",
       "\t0           1  \n",
       "\t1           2  \n",
       "\t2           3  \n",
       "\t3           5  \n",
       "\t4           6  \n",
       "\t5           8  \n",
       "\t6           9  \n",
       "]"
      ]
     },
     "execution_count": 19,
     "metadata": {},
     "output_type": "execute_result"
    }
   ],
   "source": [
    "# ---- Table of results ----\n",
    "model_g"
   ]
  },
  {
   "cell_type": "code",
   "execution_count": 20,
   "metadata": {
    "colab": {
     "base_uri": "https://localhost:8080/",
     "height": 38
    },
    "id": "Av4oxL7DIK-S",
    "outputId": "a2b35486-d11c-48b8-d2d9-07fda3d7e47d"
   },
   "outputs": [
    {
     "data": {
      "text/latex": [
       "$\\displaystyle - x_{1}^{2} + x_{2} x_{3} + e^{x_{0}}$"
      ],
      "text/plain": [
       "-x1**2 + x2*x3 + exp(x0)"
      ]
     },
     "execution_count": 20,
     "metadata": {},
     "output_type": "execute_result"
    }
   ],
   "source": [
    "# ---- Best equation ----\n",
    "model_g.sympy()"
   ]
  },
  {
   "cell_type": "code",
   "execution_count": 21,
   "metadata": {
    "colab": {
     "base_uri": "https://localhost:8080/",
     "height": 279
    },
    "id": "UJN6FUQXIK1Q",
    "outputId": "f1d58a64-0c9f-491f-80b1-50b07eb9cdb9"
   },
   "outputs": [
    {
     "data": {
      "image/png": "[encoded data removed]",
      "text/plain": [
       "<Figure size 640x480 with 1 Axes>"
      ]
     },
     "metadata": {},
     "output_type": "display_data"
    }
   ],
   "source": [
    "# ---- Plotting equation ----\n",
    "from matplotlib import pyplot as plt\n",
    "\n",
    "plt.scatter(X3_PYSR[:, :], model_g.predict(X2_PYSR[:, :]))\n",
    "plt.xlabel('Truth')\n",
    "plt.ylabel('Prediction')\n",
    "plt.show()"
   ]
  },
  {
   "cell_type": "markdown",
   "metadata": {
    "id": "ecLOdioHMCfW"
   },
   "source": [
    "<hr style=\"color:#5A7D9F;\">\n",
    "<p align=\"center\">\n",
    "    <b style=\"font-size:2vw; color:#5A7D9F; font-weight:bold;\">\n",
    "    <center>Sympy - Playground & Notes</center>\n",
    "    </b>\n",
    "</p>\n",
    "<hr style=\"color:#5A7D9F;\">"
   ]
  },
  {
   "cell_type": "code",
   "execution_count": 22,
   "metadata": {
    "id": "woYMwOvRMHFR"
   },
   "outputs": [],
   "source": [
    "# Convert the model to a pytorch model ! (Can use torch tensors as inputs)\n",
    "torch_model = model_f.pytorch()"
   ]
  },
  {
   "cell_type": "code",
   "execution_count": 26,
   "metadata": {
    "id": "QWqxZfS1MNJy"
   },
   "outputs": [],
   "source": [
    "# Convert the model to a sympy model ! (Can be used to vizualize expression after taking divergence)\n",
    "sympy_model = model_f.sympy()\n",
    "\n",
    "# Defining own coordinate system\n",
    "base = x0, x1, x2 = symbols(\"x0 x1 x2\")\n",
    "\n",
    "# ----- Functions -------\n",
    "from sympy import *\n",
    "\n",
    "def gradient(f, coords):\n",
    "  return Matrix([diff(f, c) for c in coords])\n",
    "\n",
    "def divergence(f, coords):\n",
    "  terms = [diff(f, c) for c in coords]\n",
    "  return Add(*terms)\n",
    "\n",
    "def curl(f, coords):\n",
    "  return Matrix([\n",
    "      diff(f, coords[1]) - diff(f, coords[2]),\n",
    "      diff(f, coords[2]) - diff(f, coords[0]),\n",
    "      diff(f, coords[0]) - diff(f, coords[1]) \n",
    "  ])"
   ]
  },
  {
   "cell_type": "code",
   "execution_count": 27,
   "metadata": {
    "colab": {
     "base_uri": "https://localhost:8080/",
     "height": 78
    },
    "id": "AisDtribP2VF",
    "outputId": "f7be65f4-9a24-4b00-b4b4-e1a197f7ec2b"
   },
   "outputs": [
    {
     "data": {
      "text/latex": [
       "$\\displaystyle \\left[\\begin{matrix}- \\sin{\\left(x_{0} \\right)}\\\\x_{2}^{2}\\\\2 x_{1} x_{2}\\end{matrix}\\right]$"
      ],
      "text/plain": [
       "Matrix([\n",
       "[-sin(x0)],\n",
       "[   x2**2],\n",
       "[ 2*x1*x2]])"
      ]
     },
     "execution_count": 27,
     "metadata": {},
     "output_type": "execute_result"
    }
   ],
   "source": [
    "gradient(sympy_model, base)"
   ]
  },
  {
   "cell_type": "code",
   "execution_count": 28,
   "metadata": {
    "colab": {
     "base_uri": "https://localhost:8080/",
     "height": 38
    },
    "id": "l0umvPKSNXBP",
    "outputId": "88c69f6b-47ef-47b6-8146-528bab1aa9a4"
   },
   "outputs": [
    {
     "data": {
      "text/latex": [
       "$\\displaystyle 2 x_{1} x_{2} + x_{2}^{2} - \\sin{\\left(x_{0} \\right)}$"
      ],
      "text/plain": [
       "2*x1*x2 + x2**2 - sin(x0)"
      ]
     },
     "execution_count": 28,
     "metadata": {},
     "output_type": "execute_result"
    }
   ],
   "source": [
    "divergence(sympy_model, base)"
   ]
  },
  {
   "cell_type": "code",
   "execution_count": 29,
   "metadata": {
    "colab": {
     "base_uri": "https://localhost:8080/",
     "height": 78
    },
    "id": "x-gAQaNQQwJ9",
    "outputId": "ba964c1b-6e66-4675-ecec-e13ed3f729f8"
   },
   "outputs": [
    {
     "data": {
      "text/latex": [
       "$\\displaystyle \\left[\\begin{matrix}- 2 x_{1} x_{2} + x_{2}^{2}\\\\2 x_{1} x_{2} + \\sin{\\left(x_{0} \\right)}\\\\- x_{2}^{2} - \\sin{\\left(x_{0} \\right)}\\end{matrix}\\right]$"
      ],
      "text/plain": [
       "Matrix([\n",
       "[ -2*x1*x2 + x2**2],\n",
       "[2*x1*x2 + sin(x0)],\n",
       "[ -x2**2 - sin(x0)]])"
      ]
     },
     "execution_count": 29,
     "metadata": {},
     "output_type": "execute_result"
    }
   ],
   "source": [
    "curl(sympy_model, base)"
   ]
  },
  {
   "cell_type": "code",
   "execution_count": 30,
   "metadata": {
    "colab": {
     "base_uri": "https://localhost:8080/"
    },
    "id": "p4Cs2KHrSGTq",
    "outputId": "460c0271-4fa0-437e-e264-6e76cc3a337f"
   },
   "outputs": [
    {
     "name": "stdout",
     "output_type": "stream",
     "text": [
      "Function f           :  x1*x2**2 + cos(x0)\n",
      "Function g           :  -x1**2 + x2*x3 + exp(x0)\n",
      "Function g (complete): \n",
      "\n",
      "\n",
      "    2      ⎛     2          ⎞    x₀\n",
      "- x₁  + x₂⋅⎝x₁⋅x₂  + cos(x₀)⎠ + ℯ  \n"
     ]
    }
   ],
   "source": [
    "# A bite more complex ! Let's find the expression of g but as a function of X0 not (X0, X1)\n",
    "sp_model_f = model_f.sympy()\n",
    "sp_model_g = model_g.sympy()\n",
    "\n",
    "print(\"Function f           : \", sp_model_f)\n",
    "print(\"Function g           : \", sp_model_g)\n",
    "\n",
    "# Creation of the complete base (inputs + intermediate variables)\n",
    "base = x0, x1, x2, x3 = symbols(\"x0 x1 x2 x3\")\n",
    "\n",
    "# Substitution\n",
    "sp_model_g = sp_model_g.subs({x3 : sp_model_f})\n",
    "\n",
    "# Final result\n",
    "print(\"Function g (complete): \\n\\n\")\n",
    "pprint(sp_model_g, use_unicode = True)"
   ]
  },
  {
   "cell_type": "code",
   "execution_count": null,
   "metadata": {},
   "outputs": [],
   "source": []
  }
 ],
 "metadata": {
  "colab": {
   "collapsed_sections": [
    "DS4E1PagbDgL"
   ],
   "provenance": []
  },
  "gpuClass": "standard",
  "kernelspec": {
   "display_name": "Python [conda env:TFE]",
   "language": "python",
   "name": "conda-env-TFE-py"
  },
  "language_info": {
   "codemirror_mode": {
    "name": "ipython",
    "version": 3
   },
   "file_extension": ".py",
   "mimetype": "text/x-python",
   "name": "python",
   "nbconvert_exporter": "python",
   "pygments_lexer": "ipython3",
   "version": "3.9.7"
  }
 },
 "nbformat": 4,
 "nbformat_minor": 4
}
