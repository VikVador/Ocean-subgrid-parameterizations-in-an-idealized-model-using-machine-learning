{
 "cells": [
  {
   "cell_type": "markdown",
   "metadata": {
    "id": "DS4E1PagbDgL"
   },
   "source": [
    "<img src=\"assets/header_notebook.jpg\" />"
   ]
  },
  {
   "cell_type": "markdown",
   "metadata": {},
   "source": [
    "<hr style=\"color:#5A7D9F;\">\n",
    "<p align=\"center\">\n",
    "    <b style=\"font-size:2vw; color:#5A7D9F; font-weight:bold;\">\n",
    "    <center>Librairies</center>\n",
    "    </b>\n",
    "</p>\n",
    "<hr style=\"color:#5A7D9F;\">\n",
    "\n",
    "Run the following commands on terminal to install PySR:\n",
    "\n",
    "\n",
    "```\n",
    "python\n",
    "import pysr\n",
    "pysr.install(precompile = False)\n",
    "```\n",
    "\n",
    "\n",
    "Now you are good to go !\n"
   ]
  },
  {
   "cell_type": "code",
   "execution_count": null,
   "metadata": {},
   "outputs": [],
   "source": []
  },
  {
   "cell_type": "code",
   "execution_count": null,
   "metadata": {},
   "outputs": [
    {
     "name": "stderr",
     "output_type": "stream",
     "text": [
      "/home/vmangeleer/anaconda3/envs/TFE/lib/python3.9/site-packages/pysr/sr.py:1296: UserWarning: Note: it looks like you are running in Jupyter. The progress bar will be turned off.\n",
      "  warnings.warn(\n"
     ]
    },
    {
     "name": "stdout",
     "output_type": "stream",
     "text": [
      "Compiling Julia backend...\n"
     ]
    }
   ],
   "source": [
    "import sympy\n",
    "import numpy as np\n",
    "from matplotlib import pyplot as plt\n",
    "from pysr import PySRRegressor\n",
    "from sklearn.model_selection import train_test_split\n",
    "\n",
    "np.random.seed(0)\n",
    "X = 2 * np.random.randn(100, 5)\n",
    "y = 2.5382 * np.cos(X[:, 3]) + X[:, 0] ** 2 - 2\n",
    "\n",
    "default_pysr_params = dict(\n",
    "    populations=30,\n",
    "    model_selection=\"best\",\n",
    ")\n",
    "\n",
    "model = PySRRegressor(\n",
    "    niterations=30,\n",
    "    binary_operators=[\"plus\", \"mult\"],\n",
    "    unary_operators=[\"cos\", \"exp\", \"sin\"],\n",
    "    **default_pysr_params\n",
    ")\n",
    "\n",
    "model.fit(X, y)"
   ]
  },
  {
   "cell_type": "code",
   "execution_count": null,
   "metadata": {},
   "outputs": [],
   "source": [
    "import pysr\n",
    "import numpy as     np\n",
    "\n",
    "from   pysr        import PySRRegressor\n",
    "from   matplotlib  import pyplot as plt\n",
    "from   sympy       import *\n",
    "from   julia       import Julia\n",
    "\n",
    "# Installing Julia\n",
    "julia = Julia(compiled_modules = False, threads = 'auto')\n",
    "\n",
    "from julia       import Main\n",
    "from julia.tools import redirect_output_streams\n",
    "\n",
    "# Used to display correctly Julia's output\n",
    "redirect_output_streams()\n",
    "\n",
    "# Instaling correctly PySR\n",
    "pysr.install(precompile = False)"
   ]
  },
  {
   "cell_type": "code",
   "execution_count": null,
   "metadata": {},
   "outputs": [],
   "source": [
    "!python3 -m pysr install"
   ]
  },
  {
   "cell_type": "markdown",
   "metadata": {
    "id": "TTtX1siDE1V0"
   },
   "source": [
    "<hr style=\"color:#5A7D9F;\">\n",
    "<p align=\"center\">\n",
    "    <b style=\"font-size:2vw; color:#5A7D9F; font-weight:bold;\">\n",
    "    <center>PySR - Playground</center>\n",
    "    </b>\n",
    "</p>\n",
    "<hr style=\"color:#5A7D9F;\">"
   ]
  },
  {
   "cell_type": "code",
   "execution_count": null,
   "metadata": {
    "colab": {
     "base_uri": "https://localhost:8080/"
    },
    "id": "f1igHyS1E02j",
    "outputId": "7c8c0198-9bdd-4c2c-b95e-45fd3ef591e4"
   },
   "outputs": [],
   "source": [
    "np.random.seed(0)\n",
    "\n",
    "# Initialization of the fake datasets\n",
    "u =  np.random.randn(1, 64, 64)\n",
    "v =  np.random.randn(1, 64, 64)\n",
    "q =  np.random.randn(1, 64, 64)\n",
    "\n",
    "print(u.shape, v.shape, q.shape)\n",
    "\n",
    "# ------- SHAPING X0 --------\n",
    "# Note : 1st dimension = Values for u, v, q\n",
    "#        2nd dimension = snapshot index\n",
    "#        3rd dimension = input variable index\n",
    "u = u.flatten('F')\n",
    "v = v.flatten('F')\n",
    "q = q.flatten('F')\n",
    "\n",
    "print(u.shape, v.shape, q.shape)\n",
    "\n",
    "u = np.expand_dims(u, axis = 1)\n",
    "v = np.expand_dims(v, axis = 1)\n",
    "q = np.expand_dims(q, axis = 1)\n",
    "\n",
    "print(u.shape, v.shape, q.shape)\n",
    "\n",
    "X0 = np.concatenate((u, v, q), axis = 1)\n",
    "\n",
    "print(X0.shape)\n",
    "\n",
    "X0 = np.expand_dims(X0, axis = 1)\n",
    "\n",
    "print(X0.shape)\n",
    "\n",
    "# ------- SHAPING X1 --------\n",
    "# X1 = cos(u) + v * q^2\n",
    "\n",
    "X1 = np.cos(X0[:, 0, 0]) + X0[:, 0, 1] * X0[:, 0, 2]**2\n",
    "\n",
    "print(X1.shape)\n",
    "\n",
    "X1 = np.expand_dims(X1, axis = (1, 2))\n",
    "\n",
    "print(X1.shape)\n",
    "\n",
    "# ------- SHAPING X2 --------\n",
    "# X2 = [X0, X1]\n",
    "\n",
    "X2 = np.concatenate((X0, X1), axis = 2)\n",
    "\n",
    "print(X2.shape)\n",
    "\n",
    "# ------- SHAPING X3 --------\n",
    "# X3 = exp(u) + q * X1 - v**2\n",
    "\n",
    "X3 = np.exp(X2[:, 0, 0]) - X2[:, 0, 1]**2 + X2[:, 0, 2] * X2[:, 0, 3]\n",
    "\n",
    "print(X3.shape)\n",
    "\n",
    "X3 = np.expand_dims(X3, axis = (1, 2))\n",
    "\n",
    "print(X3.shape)"
   ]
  },
  {
   "cell_type": "code",
   "execution_count": null,
   "metadata": {
    "id": "iBLQ8ccn_VbC",
    "jupyter": {
     "source_hidden": true
    }
   },
   "outputs": [],
   "source": [
    "\"\"\"\n",
    "---- Equations ----\n",
    "X0 = 1st dimension = Values for u, v, q\n",
    "     2nd dimension = snapshot index\n",
    "     3rd dimension = input variable index\n",
    "X1 = cos(u) + v * q^2\n",
    "X2 = [X0, X1]\n",
    "X3 = exp(u) + q * X1 - v**2\n",
    "\"\"\"\n",
    "\n",
    "# Random indexes (small sample size needed by PySR)\n",
    "idx = np.random.randint(0, 4095, size = 1000)\n",
    "\n",
    "# Initialization of the models\n",
    "model_f = PySRRegressor(\n",
    "    model_selection  = 'best',\n",
    "    binary_operators = [\"plus\", \"sub\", \"mult\", \"div\"],\n",
    "    unary_operators  = [\"square\", \"cube\", \"exp\", \"log\", \"sqrt\", \"sin\", \"cos\", \"tanh\", \"erf\"],\n",
    "    niterations      = 2,\n",
    "    procs            = 4,\n",
    "    populations      = 100,\n",
    ")\n",
    "\n",
    "model_g = PySRRegressor(\n",
    "    model_selection  = 'best',\n",
    "    binary_operators = [\"plus\", \"sub\", \"mult\", \"div\"],\n",
    "    unary_operators  = [\"square\", \"cube\", \"exp\", \"log\", \"sqrt\", \"sin\", \"cos\", \"tanh\", \"erf\"],\n",
    "    niterations      = 2,\n",
    "    procs            = 4,\n",
    "    populations      = 100,\n",
    ")"
   ]
  },
  {
   "cell_type": "code",
   "execution_count": null,
   "metadata": {
    "id": "Y-asAp07G5Ea"
   },
   "outputs": [],
   "source": [
    "\"\"\"\n",
    "g(u, v, q, f(X0)) = exp(u) + q * X1 - v**2\n",
    "\"\"\"\n",
    "\n",
    "print(X0.shape, X1.shape)\n",
    "\n",
    "X0_PYSR = X0.squeeze(axis = 1)\n",
    "X1_PYSR = X1.squeeze(axis = 1)\n",
    "\n",
    "print(X0_PYSR.shape, X1_PYSR.shape)\n",
    "\n",
    "# Fitting the model (1) - Finding function f\n",
    "model_f.fit(X0_PYSR[idx, :], X1_PYSR[idx, :])"
   ]
  },
  {
   "cell_type": "code",
   "execution_count": null,
   "metadata": {
    "colab": {
     "base_uri": "https://localhost:8080/",
     "height": 251
    },
    "id": "Hu-f0XjYGwVR",
    "outputId": "216d4dde-005c-47ff-d7ff-196beae116d5"
   },
   "outputs": [],
   "source": [
    "# ---- Table of results ----\n",
    "model_f"
   ]
  },
  {
   "cell_type": "code",
   "execution_count": null,
   "metadata": {
    "colab": {
     "base_uri": "https://localhost:8080/",
     "height": 38
    },
    "id": "Q9N6VQgaGDlT",
    "outputId": "b64052cc-b7a2-4fdb-e4e4-cf41a8151118"
   },
   "outputs": [],
   "source": [
    "# ---- Best equation ----\n",
    "model_f.sympy()"
   ]
  },
  {
   "cell_type": "code",
   "execution_count": null,
   "metadata": {
    "colab": {
     "base_uri": "https://localhost:8080/",
     "height": 279
    },
    "id": "ElbtpV9UGyhS",
    "outputId": "5b7dc9d3-8489-4e33-e4e2-bf6d0d528112"
   },
   "outputs": [],
   "source": [
    "# ---- Plotting equation ----\n",
    "from matplotlib import pyplot as plt\n",
    "\n",
    "plt.scatter(X1_PYSR[:, :], model_f.predict(X0_PYSR[:, :]))\n",
    "plt.xlabel('Truth')\n",
    "plt.ylabel('Prediction')\n",
    "plt.show()"
   ]
  },
  {
   "cell_type": "code",
   "execution_count": null,
   "metadata": {
    "id": "LpFucp_tAiup"
   },
   "outputs": [],
   "source": [
    "\"\"\"\n",
    "g(u, v, q, f(X0)) = exp(u) + q * X1 - v**2\n",
    "\"\"\"\n",
    "\n",
    "print(X2.shape, X3.shape)\n",
    "\n",
    "X2_PYSR = X2.squeeze(axis = 1)\n",
    "X3_PYSR = X3.squeeze(axis = 1)\n",
    "\n",
    "print(X2_PYSR.shape, X3_PYSR.shape)\n",
    "\n",
    "# Fitting the model (2) - Finding function g\n",
    "model_g.fit(X2_PYSR[idx, :], X3_PYSR[idx, :])"
   ]
  },
  {
   "cell_type": "code",
   "execution_count": null,
   "metadata": {
    "colab": {
     "base_uri": "https://localhost:8080/",
     "height": 251
    },
    "id": "aiVnnsIaIKJR",
    "outputId": "58f12ad7-cde1-45e8-afdd-992cca659882"
   },
   "outputs": [],
   "source": [
    "# ---- Table of results ----\n",
    "model_g"
   ]
  },
  {
   "cell_type": "code",
   "execution_count": null,
   "metadata": {
    "colab": {
     "base_uri": "https://localhost:8080/",
     "height": 38
    },
    "id": "Av4oxL7DIK-S",
    "outputId": "a2b35486-d11c-48b8-d2d9-07fda3d7e47d"
   },
   "outputs": [],
   "source": [
    "# ---- Best equation ----\n",
    "model_g.sympy()"
   ]
  },
  {
   "cell_type": "code",
   "execution_count": null,
   "metadata": {
    "colab": {
     "base_uri": "https://localhost:8080/",
     "height": 279
    },
    "id": "UJN6FUQXIK1Q",
    "outputId": "f1d58a64-0c9f-491f-80b1-50b07eb9cdb9"
   },
   "outputs": [],
   "source": [
    "# ---- Plotting equation ----\n",
    "from matplotlib import pyplot as plt\n",
    "\n",
    "plt.scatter(X3_PYSR[:, :], model_g.predict(X2_PYSR[:, :]))\n",
    "plt.xlabel('Truth')\n",
    "plt.ylabel('Prediction')\n",
    "plt.show()"
   ]
  },
  {
   "cell_type": "markdown",
   "metadata": {
    "id": "ecLOdioHMCfW"
   },
   "source": [
    "<hr style=\"color:#5A7D9F;\">\n",
    "<p align=\"center\">\n",
    "    <b style=\"font-size:2vw; color:#5A7D9F; font-weight:bold;\">\n",
    "    <center>Sympy - Playground & Notes</center>\n",
    "    </b>\n",
    "</p>\n",
    "<hr style=\"color:#5A7D9F;\">"
   ]
  },
  {
   "cell_type": "code",
   "execution_count": null,
   "metadata": {
    "id": "woYMwOvRMHFR"
   },
   "outputs": [],
   "source": [
    "# Convert the model to a pytorch model ! (Can use torch tensors as inputs)\n",
    "torch_model = model_f.pytorch()"
   ]
  },
  {
   "cell_type": "code",
   "execution_count": null,
   "metadata": {
    "id": "QWqxZfS1MNJy"
   },
   "outputs": [],
   "source": [
    "# Convert the model to a sympy model ! (Can be used to vizualize expression after taking divergence)\n",
    "sympy_model = model_f.sympy()\n",
    "\n",
    "# Defining own coordinate system\n",
    "base = x0, x1, x2 = symbols(\"x0 x1 x2\")\n",
    "\n",
    "# ----- Functions -------\n",
    "from sympy import *\n",
    "\n",
    "def gradient(f, coords):\n",
    "  return Matrix([diff(f, c) for c in coords])\n",
    "\n",
    "def divergence(f, coords):\n",
    "  terms = [diff(f, c) for c in coords]\n",
    "  return Add(*terms)\n",
    "\n",
    "def curl(f, coords):\n",
    "  return Matrix([\n",
    "      diff(f, coords[1]) - diff(f, coords[2]),\n",
    "      diff(f, coords[2]) - diff(f, coords[0]),\n",
    "      diff(f, coords[0]) - diff(f, coords[1]) \n",
    "  ])"
   ]
  },
  {
   "cell_type": "code",
   "execution_count": null,
   "metadata": {
    "colab": {
     "base_uri": "https://localhost:8080/",
     "height": 78
    },
    "id": "AisDtribP2VF",
    "outputId": "f7be65f4-9a24-4b00-b4b4-e1a197f7ec2b"
   },
   "outputs": [],
   "source": [
    "gradient(sympy_model, base)"
   ]
  },
  {
   "cell_type": "code",
   "execution_count": null,
   "metadata": {
    "colab": {
     "base_uri": "https://localhost:8080/",
     "height": 38
    },
    "id": "l0umvPKSNXBP",
    "outputId": "88c69f6b-47ef-47b6-8146-528bab1aa9a4"
   },
   "outputs": [],
   "source": [
    "divergence(sympy_model, base)"
   ]
  },
  {
   "cell_type": "code",
   "execution_count": null,
   "metadata": {
    "colab": {
     "base_uri": "https://localhost:8080/",
     "height": 78
    },
    "id": "x-gAQaNQQwJ9",
    "outputId": "ba964c1b-6e66-4675-ecec-e13ed3f729f8"
   },
   "outputs": [],
   "source": [
    "curl(sympy_model, base)"
   ]
  },
  {
   "cell_type": "code",
   "execution_count": null,
   "metadata": {
    "colab": {
     "base_uri": "https://localhost:8080/"
    },
    "id": "p4Cs2KHrSGTq",
    "outputId": "460c0271-4fa0-437e-e264-6e76cc3a337f"
   },
   "outputs": [],
   "source": [
    "# A bite more complex ! Let's find the expression of g but as a function of X0 not (X0, X1)\n",
    "sp_model_f = model_f.sympy()\n",
    "sp_model_g = model_g.sympy()\n",
    "\n",
    "print(\"Function f           : \", sp_model_f)\n",
    "print(\"Function g           : \", sp_model_g)\n",
    "\n",
    "# Creation of the complete base (inputs + intermediate variables)\n",
    "base = x0, x1, x2, x3 = symbols(\"x0 x1 x2 x3\")\n",
    "\n",
    "# Substitution\n",
    "sp_model_g = sp_model_g.subs({x3 : sp_model_f})\n",
    "\n",
    "# Final result\n",
    "print(\"Function g (complete): \\n\\n\")\n",
    "pprint(sp_model_g, use_unicode = True)"
   ]
  },
  {
   "cell_type": "code",
   "execution_count": null,
   "metadata": {},
   "outputs": [],
   "source": []
  }
 ],
 "metadata": {
  "colab": {
   "collapsed_sections": [
    "DS4E1PagbDgL"
   ],
   "provenance": []
  },
  "gpuClass": "standard",
  "kernelspec": {
   "display_name": "Python [conda env:TFE]",
   "language": "python",
   "name": "conda-env-TFE-py"
  },
  "language_info": {
   "codemirror_mode": {
    "name": "ipython",
    "version": 3
   },
   "file_extension": ".py",
   "mimetype": "text/x-python",
   "name": "python",
   "nbconvert_exporter": "python",
   "pygments_lexer": "ipython3",
   "version": "3.9.7"
  }
 },
 "nbformat": 4,
 "nbformat_minor": 4
}
